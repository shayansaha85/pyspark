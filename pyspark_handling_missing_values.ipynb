{
 "cells": [
  {
   "cell_type": "markdown",
   "id": "9908672b",
   "metadata": {},
   "source": [
    "**Topic**\n",
    "- Dropping Columns\n",
    "- Dropping Rows\n",
    "- Various Parameter in Dropping functionalities\n",
    "- Handling Missing values by Mean"
   ]
  },
  {
   "cell_type": "code",
   "execution_count": 2,
   "id": "04ff080f",
   "metadata": {},
   "outputs": [
    {
     "data": {
      "text/html": [
       "\n",
       "            <div>\n",
       "                <p><b>SparkSession - in-memory</b></p>\n",
       "                \n",
       "        <div>\n",
       "            <p><b>SparkContext</b></p>\n",
       "\n",
       "            <p><a href=\"http://LAPTOP-FV16Q6HP:4041\">Spark UI</a></p>\n",
       "\n",
       "            <dl>\n",
       "              <dt>Version</dt>\n",
       "                <dd><code>v3.1.2</code></dd>\n",
       "              <dt>Master</dt>\n",
       "                <dd><code>local[*]</code></dd>\n",
       "              <dt>AppName</dt>\n",
       "                <dd><code>Practice2</code></dd>\n",
       "            </dl>\n",
       "        </div>\n",
       "        \n",
       "            </div>\n",
       "        "
      ],
      "text/plain": [
       "<pyspark.sql.session.SparkSession at 0x174d0e6f370>"
      ]
     },
     "execution_count": 2,
     "metadata": {},
     "output_type": "execute_result"
    }
   ],
   "source": [
    "from pyspark.sql import SparkSession\n",
    "spark=SparkSession.builder.appName(\"Practice2\").getOrCreate()\n",
    "spark"
   ]
  },
  {
   "cell_type": "code",
   "execution_count": 27,
   "id": "104b4740",
   "metadata": {},
   "outputs": [
    {
     "name": "stdout",
     "output_type": "stream",
     "text": [
      "+---------+----+----------+------+\n",
      "|     Name| Age|Experience|Salary|\n",
      "+---------+----+----------+------+\n",
      "|   Shayan|  31|        10| 30000|\n",
      "|  Pranjit|  30|         8| 25000|\n",
      "|   Samrat|  29|         4| 20000|\n",
      "|  Diptanu|  24|         3| 20000|\n",
      "|Dwiprahar|  21|         1| 15000|\n",
      "|   Tanmoy|null|         2| 18000|\n",
      "|    Rohan|null|      null| 40000|\n",
      "|     null|  34|        10| 38000|\n",
      "|     null|  36|      null|  null|\n",
      "+---------+----+----------+------+\n",
      "\n"
     ]
    }
   ],
   "source": [
    "df_test4=spark.read.csv('test4.csv',header=True,inferSchema=True)\n",
    "df_test4.show()"
   ]
  },
  {
   "cell_type": "code",
   "execution_count": 28,
   "id": "eca2301e",
   "metadata": {},
   "outputs": [
    {
     "name": "stdout",
     "output_type": "stream",
     "text": [
      "+----+----------+------+\n",
      "| Age|Experience|Salary|\n",
      "+----+----------+------+\n",
      "|  31|        10| 30000|\n",
      "|  30|         8| 25000|\n",
      "|  29|         4| 20000|\n",
      "|  24|         3| 20000|\n",
      "|  21|         1| 15000|\n",
      "|null|         2| 18000|\n",
      "|null|      null| 40000|\n",
      "|  34|        10| 38000|\n",
      "|  36|      null|  null|\n",
      "+----+----------+------+\n",
      "\n"
     ]
    }
   ],
   "source": [
    "# drop columns\n",
    "df_test4.drop('Name').show()"
   ]
  },
  {
   "cell_type": "code",
   "execution_count": 29,
   "id": "648627ea",
   "metadata": {},
   "outputs": [
    {
     "name": "stdout",
     "output_type": "stream",
     "text": [
      "+---------+---+----------+------+\n",
      "|     Name|Age|Experience|Salary|\n",
      "+---------+---+----------+------+\n",
      "|   Shayan| 31|        10| 30000|\n",
      "|  Pranjit| 30|         8| 25000|\n",
      "|   Samrat| 29|         4| 20000|\n",
      "|  Diptanu| 24|         3| 20000|\n",
      "|Dwiprahar| 21|         1| 15000|\n",
      "+---------+---+----------+------+\n",
      "\n"
     ]
    }
   ],
   "source": [
    "# droping rows\n",
    "df_test4.na.drop().show()"
   ]
  },
  {
   "cell_type": "code",
   "execution_count": 30,
   "id": "97c3686e",
   "metadata": {},
   "outputs": [
    {
     "name": "stdout",
     "output_type": "stream",
     "text": [
      "+---------+---+----------+------+\n",
      "|     Name|Age|Experience|Salary|\n",
      "+---------+---+----------+------+\n",
      "|   Shayan| 31|        10| 30000|\n",
      "|  Pranjit| 30|         8| 25000|\n",
      "|   Samrat| 29|         4| 20000|\n",
      "|  Diptanu| 24|         3| 20000|\n",
      "|Dwiprahar| 21|         1| 15000|\n",
      "+---------+---+----------+------+\n",
      "\n"
     ]
    }
   ],
   "source": [
    "# drop with 'how'\n",
    "# how='any'\n",
    "df_test4.na.drop(how='any').show()"
   ]
  },
  {
   "cell_type": "code",
   "execution_count": 31,
   "id": "a3644173",
   "metadata": {},
   "outputs": [
    {
     "name": "stdout",
     "output_type": "stream",
     "text": [
      "+---------+----+----------+------+\n",
      "|     Name| Age|Experience|Salary|\n",
      "+---------+----+----------+------+\n",
      "|   Shayan|  31|        10| 30000|\n",
      "|  Pranjit|  30|         8| 25000|\n",
      "|   Samrat|  29|         4| 20000|\n",
      "|  Diptanu|  24|         3| 20000|\n",
      "|Dwiprahar|  21|         1| 15000|\n",
      "|   Tanmoy|null|         2| 18000|\n",
      "|    Rohan|null|      null| 40000|\n",
      "|     null|  34|        10| 38000|\n",
      "|     null|  36|      null|  null|\n",
      "+---------+----+----------+------+\n",
      "\n"
     ]
    }
   ],
   "source": [
    "# how='all'\n",
    "df_test4.na.drop(how='all').show()"
   ]
  },
  {
   "cell_type": "code",
   "execution_count": 32,
   "id": "ee1cae55",
   "metadata": {},
   "outputs": [
    {
     "name": "stdout",
     "output_type": "stream",
     "text": [
      "+---------+----+----------+------+\n",
      "|     Name| Age|Experience|Salary|\n",
      "+---------+----+----------+------+\n",
      "|   Shayan|  31|        10| 30000|\n",
      "|  Pranjit|  30|         8| 25000|\n",
      "|   Samrat|  29|         4| 20000|\n",
      "|  Diptanu|  24|         3| 20000|\n",
      "|Dwiprahar|  21|         1| 15000|\n",
      "|   Tanmoy|null|         2| 18000|\n",
      "|    Rohan|null|      null| 40000|\n",
      "|     null|  34|        10| 38000|\n",
      "+---------+----+----------+------+\n",
      "\n"
     ]
    }
   ],
   "source": [
    "# drop with thresold\n",
    "df_test4.na.drop(how='any',thresh=2).show() # thresold number specifies minimum non-null value numbers"
   ]
  },
  {
   "cell_type": "code",
   "execution_count": 33,
   "id": "3538ed47",
   "metadata": {},
   "outputs": [
    {
     "name": "stdout",
     "output_type": "stream",
     "text": [
      "+---------+----+----------+------+\n",
      "|     Name| Age|Experience|Salary|\n",
      "+---------+----+----------+------+\n",
      "|   Shayan|  31|        10| 30000|\n",
      "|  Pranjit|  30|         8| 25000|\n",
      "|   Samrat|  29|         4| 20000|\n",
      "|  Diptanu|  24|         3| 20000|\n",
      "|Dwiprahar|  21|         1| 15000|\n",
      "|   Tanmoy|null|         2| 18000|\n",
      "|    Rohan|null|      null| 40000|\n",
      "+---------+----+----------+------+\n",
      "\n"
     ]
    }
   ],
   "source": [
    "# subset\n",
    "df_test4.na.drop(how='any',subset=['Name']).show()"
   ]
  },
  {
   "cell_type": "code",
   "execution_count": 34,
   "id": "09a20433",
   "metadata": {},
   "outputs": [
    {
     "name": "stdout",
     "output_type": "stream",
     "text": [
      "+---------+----+----------+------+\n",
      "|     Name| Age|Experience|Salary|\n",
      "+---------+----+----------+------+\n",
      "|   Shayan|  31|        10| 30000|\n",
      "|  Pranjit|  30|         8| 25000|\n",
      "|   Samrat|  29|         4| 20000|\n",
      "|  Diptanu|  24|         3| 20000|\n",
      "|Dwiprahar|  21|         1| 15000|\n",
      "|   Tanmoy|null|         2| 18000|\n",
      "|    Rohan|null|      null| 40000|\n",
      "|     null|  34|        10| 38000|\n",
      "|     null|  36|      null|  null|\n",
      "+---------+----+----------+------+\n",
      "\n"
     ]
    }
   ],
   "source": [
    "# Filling missing values\n",
    "df_test4.na.fill(\"Missing Value\",['Experience','Age']).show()"
   ]
  },
  {
   "cell_type": "code",
   "execution_count": 37,
   "id": "6c6f526d",
   "metadata": {},
   "outputs": [],
   "source": [
    "# imputer function - Machine Learning\n",
    "\n",
    "from pyspark.ml.feature import Imputer\n",
    "\n",
    "imputer=Imputer(\n",
    "    inputCols=['Age','Experience','Salary'],\n",
    "    outputCols=[\"{}_imputed\".format(c) for c in ['Age','Experience','Salary']]\n",
    ").setStrategy('median') # we can also pass 'mean'"
   ]
  },
  {
   "cell_type": "code",
   "execution_count": 38,
   "id": "3f293a4b",
   "metadata": {},
   "outputs": [
    {
     "name": "stdout",
     "output_type": "stream",
     "text": [
      "+---------+----+----------+------+-----------+------------------+--------------+\n",
      "|     Name| Age|Experience|Salary|Age_imputed|Experience_imputed|Salary_imputed|\n",
      "+---------+----+----------+------+-----------+------------------+--------------+\n",
      "|   Shayan|  31|        10| 30000|         31|                10|         30000|\n",
      "|  Pranjit|  30|         8| 25000|         30|                 8|         25000|\n",
      "|   Samrat|  29|         4| 20000|         29|                 4|         20000|\n",
      "|  Diptanu|  24|         3| 20000|         24|                 3|         20000|\n",
      "|Dwiprahar|  21|         1| 15000|         21|                 1|         15000|\n",
      "|   Tanmoy|null|         2| 18000|         30|                 2|         18000|\n",
      "|    Rohan|null|      null| 40000|         30|                 4|         40000|\n",
      "|     null|  34|        10| 38000|         34|                10|         38000|\n",
      "|     null|  36|      null|  null|         36|                 4|         20000|\n",
      "+---------+----+----------+------+-----------+------------------+--------------+\n",
      "\n"
     ]
    }
   ],
   "source": [
    "# applying imputer in dataframe\n",
    "\n",
    "imputer.fit(df_test4).transform(df_test4).show()"
   ]
  },
  {
   "cell_type": "code",
   "execution_count": null,
   "id": "1254366c",
   "metadata": {},
   "outputs": [],
   "source": []
  }
 ],
 "metadata": {
  "kernelspec": {
   "display_name": "Python 3 (ipykernel)",
   "language": "python",
   "name": "python3"
  },
  "language_info": {
   "codemirror_mode": {
    "name": "ipython",
    "version": 3
   },
   "file_extension": ".py",
   "mimetype": "text/x-python",
   "name": "python",
   "nbconvert_exporter": "python",
   "pygments_lexer": "ipython3",
   "version": "3.9.2"
  }
 },
 "nbformat": 4,
 "nbformat_minor": 5
}
