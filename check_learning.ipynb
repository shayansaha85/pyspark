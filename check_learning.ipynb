{
 "cells": [
  {
   "cell_type": "code",
   "execution_count": 3,
   "id": "f0568097",
   "metadata": {},
   "outputs": [
    {
     "data": {
      "text/html": [
       "\n",
       "            <div>\n",
       "                <p><b>SparkSession - in-memory</b></p>\n",
       "                \n",
       "        <div>\n",
       "            <p><b>SparkContext</b></p>\n",
       "\n",
       "            <p><a href=\"http://LAPTOP-FV16Q6HP:4040\">Spark UI</a></p>\n",
       "\n",
       "            <dl>\n",
       "              <dt>Version</dt>\n",
       "                <dd><code>v3.1.2</code></dd>\n",
       "              <dt>Master</dt>\n",
       "                <dd><code>local[*]</code></dd>\n",
       "              <dt>AppName</dt>\n",
       "                <dd><code>KaggleDataset</code></dd>\n",
       "            </dl>\n",
       "        </div>\n",
       "        \n",
       "            </div>\n",
       "        "
      ],
      "text/plain": [
       "<pyspark.sql.session.SparkSession at 0x23b23fb7640>"
      ]
     },
     "execution_count": 3,
     "metadata": {},
     "output_type": "execute_result"
    }
   ],
   "source": [
    "from pyspark.sql import SparkSession\n",
    "spark=SparkSession.builder.appName(\"kaggle_dataset\").getOrCreate()\n",
    "spark"
   ]
  },
  {
   "cell_type": "code",
   "execution_count": 5,
   "id": "3b281d34",
   "metadata": {},
   "outputs": [
    {
     "name": "stdout",
     "output_type": "stream",
     "text": [
      "+--------+-------------------------------+----------+----------+\n",
      "|Name    |Email                          |Phone     |Address   |\n",
      "+--------+-------------------------------+----------+----------+\n",
      "|Shayan  |shayansaha.work@gmail.com      |9774162637|Aralia    |\n",
      "|Supratim|supratim.agt24@gmail.com       |8131029549|Indranagar|\n",
      "|Tanmoy  |tanmoy@efsolit.com             |7005638830|Dhaleswar |\n",
      "|Rohan   |rohan@efsolit.com              |7978675129|Chandrapur|\n",
      "|Pranjit |pranjitchowdhury.work@gmail.com|9366721069|Jolaibari |\n",
      "|Samrat  |gsamrat97@gmail.com            |9366065859|Kashipur  |\n",
      "+--------+-------------------------------+----------+----------+\n",
      "\n"
     ]
    }
   ],
   "source": [
    "df_test3=spark.read.csv('test3.csv',header=True)\n",
    "df_test3.show(truncate=False)"
   ]
  },
  {
   "cell_type": "code",
   "execution_count": 6,
   "id": "2fd8a77b",
   "metadata": {},
   "outputs": [
    {
     "name": "stdout",
     "output_type": "stream",
     "text": [
      "root\n",
      " |-- Name: string (nullable = true)\n",
      " |-- Email: string (nullable = true)\n",
      " |-- Phone: string (nullable = true)\n",
      " |-- Address: string (nullable = true)\n",
      "\n"
     ]
    }
   ],
   "source": [
    "df_test3.printSchema()"
   ]
  },
  {
   "cell_type": "code",
   "execution_count": 7,
   "id": "7a5ab9b5",
   "metadata": {},
   "outputs": [
    {
     "data": {
      "text/plain": [
       "pyspark.sql.dataframe.DataFrame"
      ]
     },
     "execution_count": 7,
     "metadata": {},
     "output_type": "execute_result"
    }
   ],
   "source": [
    "type(df_test3)"
   ]
  },
  {
   "cell_type": "code",
   "execution_count": 9,
   "id": "db7cdf29",
   "metadata": {},
   "outputs": [
    {
     "data": {
      "text/plain": [
       "[Row(Name='Shayan', Email='shayansaha.work@gmail.com', Phone='9774162637', Address='Aralia'),\n",
       " Row(Name='Supratim', Email='supratim.agt24@gmail.com', Phone='8131029549', Address='Indranagar'),\n",
       " Row(Name='Tanmoy', Email='tanmoy@efsolit.com', Phone='7005638830', Address='Dhaleswar')]"
      ]
     },
     "execution_count": 9,
     "metadata": {},
     "output_type": "execute_result"
    }
   ],
   "source": [
    "df_test3.head(3)"
   ]
  },
  {
   "cell_type": "code",
   "execution_count": 10,
   "id": "84379182",
   "metadata": {},
   "outputs": [
    {
     "name": "stdout",
     "output_type": "stream",
     "text": [
      "+--------+\n",
      "|    Name|\n",
      "+--------+\n",
      "|  Shayan|\n",
      "|Supratim|\n",
      "|  Tanmoy|\n",
      "|   Rohan|\n",
      "| Pranjit|\n",
      "|  Samrat|\n",
      "+--------+\n",
      "\n"
     ]
    }
   ],
   "source": [
    "df_test3_names=df_test3.select('Name')\n",
    "df_test3_names.show()"
   ]
  },
  {
   "cell_type": "code",
   "execution_count": 12,
   "id": "59afab80",
   "metadata": {},
   "outputs": [
    {
     "name": "stdout",
     "output_type": "stream",
     "text": [
      "+-------------------------------+----------+\n",
      "|Email                          |Phone     |\n",
      "+-------------------------------+----------+\n",
      "|shayansaha.work@gmail.com      |9774162637|\n",
      "|supratim.agt24@gmail.com       |8131029549|\n",
      "|tanmoy@efsolit.com             |7005638830|\n",
      "|rohan@efsolit.com              |7978675129|\n",
      "|pranjitchowdhury.work@gmail.com|9366721069|\n",
      "|gsamrat97@gmail.com            |9366065859|\n",
      "+-------------------------------+----------+\n",
      "\n"
     ]
    }
   ],
   "source": [
    "df_test3_promotionDetails=df_test3.select(['Email','Phone'])\n",
    "df_test3_promotionDetails.show(truncate=False)"
   ]
  },
  {
   "cell_type": "code",
   "execution_count": 13,
   "id": "921784b8",
   "metadata": {},
   "outputs": [
    {
     "data": {
      "text/plain": [
       "[('Name', 'string'),\n",
       " ('Email', 'string'),\n",
       " ('Phone', 'string'),\n",
       " ('Address', 'string')]"
      ]
     },
     "execution_count": 13,
     "metadata": {},
     "output_type": "execute_result"
    }
   ],
   "source": [
    "df_test3.dtypes"
   ]
  },
  {
   "cell_type": "code",
   "execution_count": 14,
   "id": "d59b4c57",
   "metadata": {},
   "outputs": [
    {
     "data": {
      "text/plain": [
       "DataFrame[summary: string, Name: string, Email: string, Phone: string, Address: string]"
      ]
     },
     "execution_count": 14,
     "metadata": {},
     "output_type": "execute_result"
    }
   ],
   "source": [
    "df_test3.describe()"
   ]
  },
  {
   "cell_type": "code",
   "execution_count": 15,
   "id": "a2ada81d",
   "metadata": {},
   "outputs": [
    {
     "name": "stdout",
     "output_type": "stream",
     "text": [
      "+-------+-------+-------------------+--------------------+--------+\n",
      "|summary|   Name|              Email|               Phone| Address|\n",
      "+-------+-------+-------------------+--------------------+--------+\n",
      "|  count|      6|                  6|                   6|       6|\n",
      "|   mean|   null|               null| 8.603715512166666E9|    null|\n",
      "| stddev|   null|               null|1.0678256960342188E9|    null|\n",
      "|    min|Pranjit|gsamrat97@gmail.com|          7005638830|  Aralia|\n",
      "|    max| Tanmoy| tanmoy@efsolit.com|          9774162637|Kashipur|\n",
      "+-------+-------+-------------------+--------------------+--------+\n",
      "\n"
     ]
    }
   ],
   "source": [
    "df_test3.describe().show()"
   ]
  },
  {
   "cell_type": "code",
   "execution_count": 17,
   "id": "9dd99b18",
   "metadata": {},
   "outputs": [
    {
     "name": "stdout",
     "output_type": "stream",
     "text": [
      "+--------+-------------------------------+----------+----------+\n",
      "|Name    |Email                          |Phone     |Address   |\n",
      "+--------+-------------------------------+----------+----------+\n",
      "|Shayan  |shayansaha.work@gmail.com      |9774162637|Aralia    |\n",
      "|Supratim|supratim.agt24@gmail.com       |8131029549|Indranagar|\n",
      "|Tanmoy  |tanmoy@efsolit.com             |7005638830|Dhaleswar |\n",
      "|Rohan   |rohan@efsolit.com              |7978675129|Chandrapur|\n",
      "|Pranjit |pranjitchowdhury.work@gmail.com|9366721069|Jolaibari |\n",
      "|Samrat  |gsamrat97@gmail.com            |9366065859|Kashipur  |\n",
      "+--------+-------------------------------+----------+----------+\n",
      "\n"
     ]
    }
   ],
   "source": [
    "df_test3.show(truncate=False)"
   ]
  },
  {
   "cell_type": "code",
   "execution_count": 29,
   "id": "cf0bbb1a",
   "metadata": {},
   "outputs": [
    {
     "name": "stdout",
     "output_type": "stream",
     "text": [
      "+--------+-------------------------------+----------+----------+-----------------------+\n",
      "|Name    |Email                          |Phone     |Address   |Phone with country code|\n",
      "+--------+-------------------------------+----------+----------+-----------------------+\n",
      "|Shayan  |shayansaha.work@gmail.com      |9774162637|Aralia    |9.774162728E9          |\n",
      "|Supratim|supratim.agt24@gmail.com       |8131029549|Indranagar|8.13102964E9           |\n",
      "|Tanmoy  |tanmoy@efsolit.com             |7005638830|Dhaleswar |7.005638921E9          |\n",
      "|Rohan   |rohan@efsolit.com              |7978675129|Chandrapur|7.97867522E9           |\n",
      "|Pranjit |pranjitchowdhury.work@gmail.com|9366721069|Jolaibari |9.36672116E9           |\n",
      "|Samrat  |gsamrat97@gmail.com            |9366065859|Kashipur  |9.36606595E9           |\n",
      "+--------+-------------------------------+----------+----------+-----------------------+\n",
      "\n"
     ]
    }
   ],
   "source": [
    "df_test3_domains=df_test3.withColumn('Phone with country code', df_test3['Phone']+'+91')\n",
    "df_test3_domains.show(truncate=False)"
   ]
  },
  {
   "cell_type": "code",
   "execution_count": 32,
   "id": "dac7ff2d",
   "metadata": {},
   "outputs": [],
   "source": [
    "df_test3_domains=df_test3_domains.drop('Phone with country code')"
   ]
  },
  {
   "cell_type": "code",
   "execution_count": 33,
   "id": "d31de8be",
   "metadata": {},
   "outputs": [
    {
     "name": "stdout",
     "output_type": "stream",
     "text": [
      "+--------+--------------------+----------+----------+\n",
      "|    Name|               Email|     Phone|   Address|\n",
      "+--------+--------------------+----------+----------+\n",
      "|  Shayan|shayansaha.work@g...|9774162637|    Aralia|\n",
      "|Supratim|supratim.agt24@gm...|8131029549|Indranagar|\n",
      "|  Tanmoy|  tanmoy@efsolit.com|7005638830| Dhaleswar|\n",
      "|   Rohan|   rohan@efsolit.com|7978675129|Chandrapur|\n",
      "| Pranjit|pranjitchowdhury....|9366721069| Jolaibari|\n",
      "|  Samrat| gsamrat97@gmail.com|9366065859|  Kashipur|\n",
      "+--------+--------------------+----------+----------+\n",
      "\n"
     ]
    }
   ],
   "source": [
    "df_test3_domains.show()"
   ]
  },
  {
   "cell_type": "code",
   "execution_count": 34,
   "id": "6eac75c9",
   "metadata": {},
   "outputs": [
    {
     "name": "stdout",
     "output_type": "stream",
     "text": [
      "+---------+--------------------+----------+----------+\n",
      "|Firstname|               Email|     Phone|   Address|\n",
      "+---------+--------------------+----------+----------+\n",
      "|   Shayan|shayansaha.work@g...|9774162637|    Aralia|\n",
      "| Supratim|supratim.agt24@gm...|8131029549|Indranagar|\n",
      "|   Tanmoy|  tanmoy@efsolit.com|7005638830| Dhaleswar|\n",
      "|    Rohan|   rohan@efsolit.com|7978675129|Chandrapur|\n",
      "|  Pranjit|pranjitchowdhury....|9366721069| Jolaibari|\n",
      "|   Samrat| gsamrat97@gmail.com|9366065859|  Kashipur|\n",
      "+---------+--------------------+----------+----------+\n",
      "\n"
     ]
    }
   ],
   "source": [
    "df_test3_firstname=df_test3.withColumnRenamed('Name','Firstname')\n",
    "df_test3_firstname.show()"
   ]
  },
  {
   "cell_type": "code",
   "execution_count": null,
   "id": "8cf365d3",
   "metadata": {},
   "outputs": [],
   "source": []
  }
 ],
 "metadata": {
  "kernelspec": {
   "display_name": "Python 3 (ipykernel)",
   "language": "python",
   "name": "python3"
  },
  "language_info": {
   "codemirror_mode": {
    "name": "ipython",
    "version": 3
   },
   "file_extension": ".py",
   "mimetype": "text/x-python",
   "name": "python",
   "nbconvert_exporter": "python",
   "pygments_lexer": "ipython3",
   "version": "3.9.2"
  }
 },
 "nbformat": 4,
 "nbformat_minor": 5
}
