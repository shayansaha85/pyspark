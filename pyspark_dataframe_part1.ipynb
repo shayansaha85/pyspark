{
 "cells": [
  {
   "cell_type": "markdown",
   "id": "49baa96e",
   "metadata": {},
   "source": [
    "**Topic**\n",
    "- Pyspark dataframe\n",
    "- Reading the dataset\n",
    "- Checking the datatypes of the column (schema)\n",
    "- Selecting columns and indexing\n",
    "- Check describe option similar to pandas\n",
    "- Adding columns\n",
    "- Dropping columns\n",
    "- Renaming columns"
   ]
  },
  {
   "cell_type": "code",
   "execution_count": 1,
   "id": "db5c9188",
   "metadata": {},
   "outputs": [
    {
     "data": {
      "text/html": [
       "\n",
       "            <div>\n",
       "                <p><b>SparkSession - in-memory</b></p>\n",
       "                \n",
       "        <div>\n",
       "            <p><b>SparkContext</b></p>\n",
       "\n",
       "            <p><a href=\"http://LAPTOP-FV16Q6HP:4041\">Spark UI</a></p>\n",
       "\n",
       "            <dl>\n",
       "              <dt>Version</dt>\n",
       "                <dd><code>v3.1.2</code></dd>\n",
       "              <dt>Master</dt>\n",
       "                <dd><code>local[*]</code></dd>\n",
       "              <dt>AppName</dt>\n",
       "                <dd><code>dataframe</code></dd>\n",
       "            </dl>\n",
       "        </div>\n",
       "        \n",
       "            </div>\n",
       "        "
      ],
      "text/plain": [
       "<pyspark.sql.session.SparkSession at 0x27064c4c2b0>"
      ]
     },
     "execution_count": 1,
     "metadata": {},
     "output_type": "execute_result"
    }
   ],
   "source": [
    "from pyspark.sql import SparkSession\n",
    "spark=SparkSession.builder.appName('dataframe').getOrCreate()\n",
    "spark"
   ]
  },
  {
   "cell_type": "code",
   "execution_count": 5,
   "id": "410283b1",
   "metadata": {},
   "outputs": [],
   "source": [
    "# reading dataset\n",
    "df_test2=spark.read.option('header','true').csv('test2.csv',inferSchema=True)"
   ]
  },
  {
   "cell_type": "code",
   "execution_count": 6,
   "id": "e3f57daa",
   "metadata": {},
   "outputs": [
    {
     "name": "stdout",
     "output_type": "stream",
     "text": [
      "+------+---+----------+\n",
      "|  name|age|experience|\n",
      "+------+---+----------+\n",
      "|shayan| 24|        10|\n",
      "|  lisa| 22|         6|\n",
      "|  irin| 23|         4|\n",
      "+------+---+----------+\n",
      "\n"
     ]
    }
   ],
   "source": [
    "df_test2.show()"
   ]
  },
  {
   "cell_type": "code",
   "execution_count": 7,
   "id": "db522b67",
   "metadata": {},
   "outputs": [
    {
     "name": "stdout",
     "output_type": "stream",
     "text": [
      "root\n",
      " |-- name: string (nullable = true)\n",
      " |-- age: integer (nullable = true)\n",
      " |-- experience: integer (nullable = true)\n",
      "\n"
     ]
    }
   ],
   "source": [
    "# checking schema or dtypes\n",
    "df_test2.printSchema()"
   ]
  },
  {
   "cell_type": "code",
   "execution_count": 10,
   "id": "a1bd5379",
   "metadata": {},
   "outputs": [
    {
     "name": "stdout",
     "output_type": "stream",
     "text": [
      "+------+---+----------+\n",
      "|  name|age|experience|\n",
      "+------+---+----------+\n",
      "|shayan| 24|        10|\n",
      "|  lisa| 22|         6|\n",
      "|  irin| 23|         4|\n",
      "+------+---+----------+\n",
      "\n"
     ]
    }
   ],
   "source": [
    "df_test2=spark.read.csv('test2.csv',header=True,inferSchema=True)\n",
    "df_test2.show()"
   ]
  },
  {
   "cell_type": "code",
   "execution_count": 11,
   "id": "1ae6bdec",
   "metadata": {},
   "outputs": [
    {
     "data": {
      "text/plain": [
       "pyspark.sql.dataframe.DataFrame"
      ]
     },
     "execution_count": 11,
     "metadata": {},
     "output_type": "execute_result"
    }
   ],
   "source": [
    "type(df_test2)"
   ]
  },
  {
   "cell_type": "code",
   "execution_count": 12,
   "id": "db3dbdae",
   "metadata": {},
   "outputs": [
    {
     "data": {
      "text/plain": [
       "['name', 'age', 'experience']"
      ]
     },
     "execution_count": 12,
     "metadata": {},
     "output_type": "execute_result"
    }
   ],
   "source": [
    "df_test2.columns"
   ]
  },
  {
   "cell_type": "code",
   "execution_count": 14,
   "id": "bc0611c5",
   "metadata": {},
   "outputs": [
    {
     "data": {
      "text/plain": [
       "[Row(name='shayan', age=24, experience=10),\n",
       " Row(name='lisa', age=22, experience=6),\n",
       " Row(name='irin', age=23, experience=4)]"
      ]
     },
     "execution_count": 14,
     "metadata": {},
     "output_type": "execute_result"
    }
   ],
   "source": [
    "df_test2.head(3)"
   ]
  },
  {
   "cell_type": "code",
   "execution_count": 15,
   "id": "d6f5aca9",
   "metadata": {},
   "outputs": [
    {
     "name": "stdout",
     "output_type": "stream",
     "text": [
      "+------+---+----------+\n",
      "|  name|age|experience|\n",
      "+------+---+----------+\n",
      "|shayan| 24|        10|\n",
      "|  lisa| 22|         6|\n",
      "|  irin| 23|         4|\n",
      "+------+---+----------+\n",
      "\n"
     ]
    }
   ],
   "source": [
    "df_test2.show()"
   ]
  },
  {
   "cell_type": "code",
   "execution_count": 19,
   "id": "7249edde",
   "metadata": {},
   "outputs": [
    {
     "name": "stdout",
     "output_type": "stream",
     "text": [
      "+----------+\n",
      "|experience|\n",
      "+----------+\n",
      "|        10|\n",
      "|         6|\n",
      "|         4|\n",
      "+----------+\n",
      "\n"
     ]
    }
   ],
   "source": [
    "test2_name=df_test2.select('experience')\n",
    "test2_name.show()"
   ]
  },
  {
   "cell_type": "code",
   "execution_count": 20,
   "id": "fff8dcf0",
   "metadata": {},
   "outputs": [
    {
     "name": "stdout",
     "output_type": "stream",
     "text": [
      "+------+---+\n",
      "|  name|age|\n",
      "+------+---+\n",
      "|shayan| 24|\n",
      "|  lisa| 22|\n",
      "|  irin| 23|\n",
      "+------+---+\n",
      "\n"
     ]
    }
   ],
   "source": [
    "test2_name_age=df_test2.select(['name','age'])\n",
    "test2_name_age.show()"
   ]
  },
  {
   "cell_type": "code",
   "execution_count": 21,
   "id": "44f9918a",
   "metadata": {},
   "outputs": [
    {
     "data": {
      "text/plain": [
       "[('name', 'string'), ('age', 'int'), ('experience', 'int')]"
      ]
     },
     "execution_count": 21,
     "metadata": {},
     "output_type": "execute_result"
    }
   ],
   "source": [
    "df_test2.dtypes"
   ]
  },
  {
   "cell_type": "code",
   "execution_count": 22,
   "id": "bf6a78aa",
   "metadata": {},
   "outputs": [
    {
     "data": {
      "text/plain": [
       "DataFrame[summary: string, name: string, age: string, experience: string]"
      ]
     },
     "execution_count": 22,
     "metadata": {},
     "output_type": "execute_result"
    }
   ],
   "source": [
    "df_test2.describe()"
   ]
  },
  {
   "cell_type": "code",
   "execution_count": 23,
   "id": "4212a5aa",
   "metadata": {},
   "outputs": [
    {
     "name": "stdout",
     "output_type": "stream",
     "text": [
      "+-------+------+----+------------------+\n",
      "|summary|  name| age|        experience|\n",
      "+-------+------+----+------------------+\n",
      "|  count|     3|   3|                 3|\n",
      "|   mean|  null|23.0| 6.666666666666667|\n",
      "| stddev|  null| 1.0|3.0550504633038935|\n",
      "|    min|  irin|  22|                 4|\n",
      "|    max|shayan|  24|                10|\n",
      "+-------+------+----+------------------+\n",
      "\n"
     ]
    }
   ],
   "source": [
    "df_test2.describe().show()"
   ]
  },
  {
   "cell_type": "code",
   "execution_count": 26,
   "id": "a4685c11",
   "metadata": {},
   "outputs": [
    {
     "name": "stdout",
     "output_type": "stream",
     "text": [
      "+------+---+----------+------------------------+\n",
      "|  name|age|experience|experience after 2 years|\n",
      "+------+---+----------+------------------------+\n",
      "|shayan| 24|        10|                      12|\n",
      "|  lisa| 22|         6|                       8|\n",
      "|  irin| 23|         4|                       6|\n",
      "+------+---+----------+------------------------+\n",
      "\n"
     ]
    }
   ],
   "source": [
    "# add columns\n",
    "df_test2_exp2=df_test2.withColumn('experience after 2 years',df_test2['experience']+2)\n",
    "df_test2_exp2.show()"
   ]
  },
  {
   "cell_type": "code",
   "execution_count": 28,
   "id": "20031582",
   "metadata": {},
   "outputs": [
    {
     "name": "stdout",
     "output_type": "stream",
     "text": [
      "+------+---+----------+\n",
      "|  name|age|experience|\n",
      "+------+---+----------+\n",
      "|shayan| 24|        10|\n",
      "|  lisa| 22|         6|\n",
      "|  irin| 23|         4|\n",
      "+------+---+----------+\n",
      "\n"
     ]
    }
   ],
   "source": [
    "# dropping columns\n",
    "df_test2_noexp2=df_test2_exp2.drop('experience after 2 years')\n",
    "df_test2_noexp2.show()"
   ]
  },
  {
   "cell_type": "code",
   "execution_count": 30,
   "id": "e2d48d93",
   "metadata": {},
   "outputs": [
    {
     "name": "stdout",
     "output_type": "stream",
     "text": [
      "+------+---+----------+\n",
      "|  Name|age|experience|\n",
      "+------+---+----------+\n",
      "|shayan| 24|        10|\n",
      "|  lisa| 22|         6|\n",
      "|  irin| 23|         4|\n",
      "+------+---+----------+\n",
      "\n"
     ]
    }
   ],
   "source": [
    "# rename\n",
    "df_test2_namecolchanged=df_test2.withColumnRenamed('name','Name')\n",
    "df_test2_namecolchanged.show()"
   ]
  },
  {
   "cell_type": "code",
   "execution_count": null,
   "id": "a5f27f1a",
   "metadata": {},
   "outputs": [],
   "source": []
  }
 ],
 "metadata": {
  "kernelspec": {
   "display_name": "Python 3 (ipykernel)",
   "language": "python",
   "name": "python3"
  },
  "language_info": {
   "codemirror_mode": {
    "name": "ipython",
    "version": 3
   },
   "file_extension": ".py",
   "mimetype": "text/x-python",
   "name": "python",
   "nbconvert_exporter": "python",
   "pygments_lexer": "ipython3",
   "version": "3.9.2"
  }
 },
 "nbformat": 4,
 "nbformat_minor": 5
}
